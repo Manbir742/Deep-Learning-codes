{
  "nbformat": 4,
  "nbformat_minor": 0,
  "metadata": {
    "colab": {
      "provenance": [],
      "gpuType": "T4"
    },
    "kernelspec": {
      "name": "python3",
      "display_name": "Python 3"
    },
    "language_info": {
      "name": "python"
    },
    "accelerator": "GPU"
  },
  "cells": [
    {
      "cell_type": "code",
      "source": [
        "!mkdir -p ~/.kaggle\n",
        "!cp kaggle.json ~/.kaggle/"
      ],
      "metadata": {
        "id": "xozqEFfeBC3x"
      },
      "execution_count": null,
      "outputs": []
    },
    {
      "cell_type": "code",
      "source": [
        "!kaggle datasets download -d salader/dogs-vs-cats"
      ],
      "metadata": {
        "colab": {
          "base_uri": "https://localhost:8080/"
        },
        "id": "WFi6sD-zBC6s",
        "outputId": "9d8f2827-a187-4fdc-f0e3-d398fcd9af99"
      },
      "execution_count": null,
      "outputs": [
        {
          "output_type": "stream",
          "name": "stdout",
          "text": [
            "Warning: Your Kaggle API key is readable by other users on this system! To fix this, you can run 'chmod 600 /root/.kaggle/kaggle.json'\n",
            "Downloading dogs-vs-cats.zip to /content\n",
            " 98% 1.05G/1.06G [00:04<00:00, 247MB/s]\n",
            "100% 1.06G/1.06G [00:04<00:00, 250MB/s]\n"
          ]
        }
      ]
    },
    {
      "cell_type": "code",
      "source": [
        "# to unzip the downloaded data\n",
        "import zipfile\n",
        "zip_ref = zipfile.ZipFile('/content/dogs-vs-cats.zip', 'r')\n",
        "zip_ref.extractall('/content')\n",
        "zip_ref.close()"
      ],
      "metadata": {
        "id": "j-G1zmP_BC-U"
      },
      "execution_count": null,
      "outputs": []
    },
    {
      "cell_type": "code",
      "execution_count": null,
      "metadata": {
        "id": "Gbj2xQ-sE1_P"
      },
      "outputs": [],
      "source": [
        "import tensorflow,keras"
      ]
    },
    {
      "cell_type": "code",
      "source": [
        "from tensorflow.keras.applications.resnet50 import ResNet50\n",
        "from tensorflow.keras.applications.vgg16 import VGG16"
      ],
      "metadata": {
        "id": "i406EiIOFART"
      },
      "execution_count": null,
      "outputs": []
    },
    {
      "cell_type": "code",
      "source": [
        "from tensorflow.keras.preprocessing import image"
      ],
      "metadata": {
        "id": "UdGOEApHFPTE"
      },
      "execution_count": null,
      "outputs": []
    },
    {
      "cell_type": "code",
      "source": [
        "model_resnet = ResNet50(weights='imagenet',include_top=False,input_shape=(150,150,3))"
      ],
      "metadata": {
        "id": "kQVc3FA7FsDn"
      },
      "execution_count": null,
      "outputs": []
    },
    {
      "cell_type": "code",
      "source": [
        "model_vgg = VGG16(weights='imagenet',include_top=False,input_shape=(150,150,3))"
      ],
      "metadata": {
        "id": "qDwbz8j_F976"
      },
      "execution_count": null,
      "outputs": []
    },
    {
      "cell_type": "code",
      "source": [
        "model_resnet.summary()"
      ],
      "metadata": {
        "id": "zQIdPPwRDYys"
      },
      "execution_count": null,
      "outputs": []
    },
    {
      "cell_type": "code",
      "source": [
        "model_vgg.summary()"
      ],
      "metadata": {
        "id": "oyNhf8-yD4f4",
        "colab": {
          "base_uri": "https://localhost:8080/"
        },
        "outputId": "5204554b-11a3-4ea9-e81c-13b5583c8fb0"
      },
      "execution_count": null,
      "outputs": [
        {
          "output_type": "stream",
          "name": "stdout",
          "text": [
            "Model: \"vgg16\"\n",
            "_________________________________________________________________\n",
            " Layer (type)                Output Shape              Param #   \n",
            "=================================================================\n",
            " input_3 (InputLayer)        [(None, 150, 150, 3)]     0         \n",
            "                                                                 \n",
            " block1_conv1 (Conv2D)       (None, 150, 150, 64)      1792      \n",
            "                                                                 \n",
            " block1_conv2 (Conv2D)       (None, 150, 150, 64)      36928     \n",
            "                                                                 \n",
            " block1_pool (MaxPooling2D)  (None, 75, 75, 64)        0         \n",
            "                                                                 \n",
            " block2_conv1 (Conv2D)       (None, 75, 75, 128)       73856     \n",
            "                                                                 \n",
            " block2_conv2 (Conv2D)       (None, 75, 75, 128)       147584    \n",
            "                                                                 \n",
            " block2_pool (MaxPooling2D)  (None, 37, 37, 128)       0         \n",
            "                                                                 \n",
            " block3_conv1 (Conv2D)       (None, 37, 37, 256)       295168    \n",
            "                                                                 \n",
            " block3_conv2 (Conv2D)       (None, 37, 37, 256)       590080    \n",
            "                                                                 \n",
            " block3_conv3 (Conv2D)       (None, 37, 37, 256)       590080    \n",
            "                                                                 \n",
            " block3_pool (MaxPooling2D)  (None, 18, 18, 256)       0         \n",
            "                                                                 \n",
            " block4_conv1 (Conv2D)       (None, 18, 18, 512)       1180160   \n",
            "                                                                 \n",
            " block4_conv2 (Conv2D)       (None, 18, 18, 512)       2359808   \n",
            "                                                                 \n",
            " block4_conv3 (Conv2D)       (None, 18, 18, 512)       2359808   \n",
            "                                                                 \n",
            " block4_pool (MaxPooling2D)  (None, 9, 9, 512)         0         \n",
            "                                                                 \n",
            " block5_conv1 (Conv2D)       (None, 9, 9, 512)         2359808   \n",
            "                                                                 \n",
            " block5_conv2 (Conv2D)       (None, 9, 9, 512)         2359808   \n",
            "                                                                 \n",
            " block5_conv3 (Conv2D)       (None, 9, 9, 512)         2359808   \n",
            "                                                                 \n",
            " block5_pool (MaxPooling2D)  (None, 4, 4, 512)         0         \n",
            "                                                                 \n",
            "=================================================================\n",
            "Total params: 14714688 (56.13 MB)\n",
            "Trainable params: 14714688 (56.13 MB)\n",
            "Non-trainable params: 0 (0.00 Byte)\n",
            "_________________________________________________________________\n"
          ]
        }
      ]
    },
    {
      "cell_type": "code",
      "source": [
        "from keras import Sequential\n",
        "from keras.layers import Dense,Flatten"
      ],
      "metadata": {
        "id": "cCxxzextDgcO"
      },
      "execution_count": null,
      "outputs": []
    },
    {
      "cell_type": "code",
      "source": [
        "model=Sequential()\n",
        "model.add(model_vgg)\n",
        "model.add(Flatten())\n",
        "model.add(Dense(512,activation='relu'))\n",
        "model.add(Dense(1,activation='sigmoid'))"
      ],
      "metadata": {
        "id": "aJSo9RpIEWb2"
      },
      "execution_count": null,
      "outputs": []
    },
    {
      "cell_type": "code",
      "source": [
        "model.summary()"
      ],
      "metadata": {
        "colab": {
          "base_uri": "https://localhost:8080/"
        },
        "id": "GhH3-n0iFl5A",
        "outputId": "b77901b8-35e1-41ba-c362-c80b1b12e6a9"
      },
      "execution_count": null,
      "outputs": [
        {
          "output_type": "stream",
          "name": "stdout",
          "text": [
            "Model: \"sequential_3\"\n",
            "_________________________________________________________________\n",
            " Layer (type)                Output Shape              Param #   \n",
            "=================================================================\n",
            " vgg16 (Functional)          (None, 4, 4, 512)         14714688  \n",
            "                                                                 \n",
            " flatten_2 (Flatten)         (None, 8192)              0         \n",
            "                                                                 \n",
            " dense_6 (Dense)             (None, 512)               4194816   \n",
            "                                                                 \n",
            " dense_7 (Dense)             (None, 1)                 513       \n",
            "                                                                 \n",
            "=================================================================\n",
            "Total params: 18910017 (72.14 MB)\n",
            "Trainable params: 4195329 (16.00 MB)\n",
            "Non-trainable params: 14714688 (56.13 MB)\n",
            "_________________________________________________________________\n"
          ]
        }
      ]
    },
    {
      "cell_type": "code",
      "source": [
        "model_vgg.trainable=False"
      ],
      "metadata": {
        "id": "mYPUqgdgFv5B"
      },
      "execution_count": null,
      "outputs": []
    },
    {
      "cell_type": "code",
      "source": [
        "train_data=keras.utils.image_dataset_from_directory(\n",
        "    directory=\"/content/train\",\n",
        "    labels=\"inferred\",\n",
        "    label_mode=\"int\",\n",
        "    batch_size=32,\n",
        "    class_names=[\"cats\",\"dogs\"],\n",
        "    # by giving class_names i know that if output is zero\n",
        "    #then it means prediction is cat and output is one than output is dog\n",
        "    image_size=(150, 150))\n",
        "test_data=keras.utils.image_dataset_from_directory(\n",
        "    directory=\"/content/test\",\n",
        "    labels=\"inferred\",\n",
        "    label_mode=\"int\",\n",
        "    batch_size=32,\n",
        "    image_size=(150, 150))"
      ],
      "metadata": {
        "id": "xC6wXmVQGUun",
        "colab": {
          "base_uri": "https://localhost:8080/"
        },
        "outputId": "213d3b42-9ac5-46a6-b061-d4ec8714b4c3"
      },
      "execution_count": null,
      "outputs": [
        {
          "output_type": "stream",
          "name": "stdout",
          "text": [
            "Found 20000 files belonging to 2 classes.\n",
            "Found 5000 files belonging to 2 classes.\n"
          ]
        }
      ]
    },
    {
      "cell_type": "code",
      "source": [
        "def normalize(image,label):\n",
        "  return image/255,label"
      ],
      "metadata": {
        "id": "AYoxFkWvHIIw"
      },
      "execution_count": null,
      "outputs": []
    },
    {
      "cell_type": "code",
      "source": [
        "train_data=train_data.map(normalize)\n",
        "test_data=test_data.map(normalize)"
      ],
      "metadata": {
        "id": "Rjvnwr4-HPOz"
      },
      "execution_count": null,
      "outputs": []
    },
    {
      "cell_type": "code",
      "source": [
        "model.compile(optimizer='adam',loss='binary_crossentropy',metrics='accuracy')"
      ],
      "metadata": {
        "id": "nu8CCzolH8aX"
      },
      "execution_count": null,
      "outputs": []
    },
    {
      "cell_type": "code",
      "source": [
        "#with trainable as false\n",
        "#history=model.fit(train_data,epochs=10,validation_data=test_data)"
      ],
      "metadata": {
        "colab": {
          "base_uri": "https://localhost:8080/"
        },
        "id": "_mRzNafaIU-N",
        "outputId": "a5c96458-0344-4ad2-e740-371f873f966c"
      },
      "execution_count": null,
      "outputs": [
        {
          "output_type": "stream",
          "name": "stdout",
          "text": [
            "Epoch 1/10\n",
            "625/625 [==============================] - 69s 88ms/step - loss: 0.2852 - accuracy: 0.8817 - val_loss: 0.2224 - val_accuracy: 0.9076\n",
            "Epoch 2/10\n",
            "625/625 [==============================] - 65s 104ms/step - loss: 0.1896 - accuracy: 0.9222 - val_loss: 0.2227 - val_accuracy: 0.9038\n",
            "Epoch 3/10\n",
            "625/625 [==============================] - 65s 104ms/step - loss: 0.1618 - accuracy: 0.9355 - val_loss: 0.2270 - val_accuracy: 0.9010\n",
            "Epoch 4/10\n",
            "625/625 [==============================] - 67s 106ms/step - loss: 0.1332 - accuracy: 0.9464 - val_loss: 0.2199 - val_accuracy: 0.9128\n",
            "Epoch 5/10\n",
            "625/625 [==============================] - 67s 107ms/step - loss: 0.1006 - accuracy: 0.9602 - val_loss: 0.2472 - val_accuracy: 0.9078\n",
            "Epoch 6/10\n",
            "625/625 [==============================] - 57s 91ms/step - loss: 0.0776 - accuracy: 0.9689 - val_loss: 0.3851 - val_accuracy: 0.8836\n",
            "Epoch 7/10\n",
            "625/625 [==============================] - 67s 107ms/step - loss: 0.0617 - accuracy: 0.9768 - val_loss: 0.3229 - val_accuracy: 0.9014\n",
            "Epoch 8/10\n",
            "625/625 [==============================] - 57s 91ms/step - loss: 0.0480 - accuracy: 0.9810 - val_loss: 0.3406 - val_accuracy: 0.9004\n",
            "Epoch 9/10\n",
            "625/625 [==============================] - 68s 108ms/step - loss: 0.0295 - accuracy: 0.9902 - val_loss: 0.4842 - val_accuracy: 0.8838\n",
            "Epoch 10/10\n",
            "625/625 [==============================] - 67s 106ms/step - loss: 0.0385 - accuracy: 0.9852 - val_loss: 0.3987 - val_accuracy: 0.9046\n"
          ]
        }
      ]
    },
    {
      "cell_type": "code",
      "source": [
        "history=model.fit(train_data,epochs=10,validation_data=test_data)"
      ],
      "metadata": {
        "colab": {
          "base_uri": "https://localhost:8080/"
        },
        "id": "kN2Im7auOr2T",
        "outputId": "8a2bcade-4450-4f66-9917-e4f2f8b12eaf"
      },
      "execution_count": 66,
      "outputs": [
        {
          "output_type": "stream",
          "name": "stdout",
          "text": [
            "Epoch 1/10\n",
            "625/625 [==============================] - 66s 102ms/step - loss: 0.2733 - accuracy: 0.8869 - val_loss: 0.2070 - val_accuracy: 0.9144\n",
            "Epoch 2/10\n",
            "625/625 [==============================] - 64s 102ms/step - loss: 0.1931 - accuracy: 0.9183 - val_loss: 0.2256 - val_accuracy: 0.9046\n",
            "Epoch 3/10\n",
            "625/625 [==============================] - 65s 104ms/step - loss: 0.1562 - accuracy: 0.9361 - val_loss: 0.1967 - val_accuracy: 0.9176\n",
            "Epoch 4/10\n",
            "625/625 [==============================] - 57s 91ms/step - loss: 0.1278 - accuracy: 0.9466 - val_loss: 0.2418 - val_accuracy: 0.9006\n",
            "Epoch 5/10\n",
            "625/625 [==============================] - 58s 93ms/step - loss: 0.0979 - accuracy: 0.9617 - val_loss: 0.2408 - val_accuracy: 0.9076\n",
            "Epoch 6/10\n",
            "625/625 [==============================] - 57s 90ms/step - loss: 0.0733 - accuracy: 0.9720 - val_loss: 0.2533 - val_accuracy: 0.9152\n",
            "Epoch 7/10\n",
            "625/625 [==============================] - 58s 93ms/step - loss: 0.0572 - accuracy: 0.9791 - val_loss: 0.3662 - val_accuracy: 0.8922\n",
            "Epoch 8/10\n",
            "625/625 [==============================] - 58s 93ms/step - loss: 0.0389 - accuracy: 0.9858 - val_loss: 0.3002 - val_accuracy: 0.9102\n",
            "Epoch 9/10\n",
            "625/625 [==============================] - 67s 107ms/step - loss: 0.0321 - accuracy: 0.9883 - val_loss: 0.3636 - val_accuracy: 0.9072\n",
            "Epoch 10/10\n",
            "625/625 [==============================] - 58s 92ms/step - loss: 0.0311 - accuracy: 0.9889 - val_loss: 0.3802 - val_accuracy: 0.9132\n"
          ]
        }
      ]
    },
    {
      "cell_type": "code",
      "source": [
        "for layer in model_vgg.layers:\n",
        "  if 'block5' in str(layer.name).lower():\n",
        "    layer.trainable=True\n",
        "    #break"
      ],
      "metadata": {
        "id": "YdTp7aOZIig5"
      },
      "execution_count": null,
      "outputs": []
    },
    {
      "cell_type": "code",
      "source": [
        "for layer in model_vgg.layers:\n",
        "  print(layer.name,layer.trainable)\n",
        "    #layer.trainable=True"
      ],
      "metadata": {
        "colab": {
          "base_uri": "https://localhost:8080/"
        },
        "id": "bp8mnwKFMGjv",
        "outputId": "e24deb2e-8989-43d7-f198-51c3e340ab48"
      },
      "execution_count": 67,
      "outputs": [
        {
          "output_type": "stream",
          "name": "stdout",
          "text": [
            "input_4 False\n",
            "block1_conv1 False\n",
            "block1_conv2 False\n",
            "block1_pool False\n",
            "block2_conv1 False\n",
            "block2_conv2 False\n",
            "block2_pool False\n",
            "block3_conv1 False\n",
            "block3_conv2 False\n",
            "block3_conv3 False\n",
            "block3_pool False\n",
            "block4_conv1 False\n",
            "block4_conv2 False\n",
            "block4_conv3 False\n",
            "block4_pool False\n",
            "block5_conv1 True\n",
            "block5_conv2 True\n",
            "block5_conv3 True\n",
            "block5_pool True\n"
          ]
        }
      ]
    },
    {
      "cell_type": "code",
      "source": [
        "import matplotlib.pyplot as plt\n",
        "plt.plot(history.history['loss'],color='red',label='Loss')\n",
        "plt.plot(history.history['val_loss'],color='blue',label='Val_Loss')\n",
        "plt.legend()\n",
        "plt.show()"
      ],
      "metadata": {
        "id": "qA1u4yE-OcZS",
        "colab": {
          "base_uri": "https://localhost:8080/",
          "height": 430
        },
        "outputId": "0f1d925b-04d4-4e4a-9b46-4b4df8a7ec9d"
      },
      "execution_count": 68,
      "outputs": [
        {
          "output_type": "display_data",
          "data": {
            "text/plain": [
              "<Figure size 640x480 with 1 Axes>"
            ],
            "image/png": "[encoded data removed]"
          },
          "metadata": {}
        }
      ]
    },
    {
      "cell_type": "code",
      "source": [
        "import matplotlib.pyplot as plt\n",
        "plt.plot(history.history['accuracy'],color='red',label='accuracy')\n",
        "plt.plot(history.history['val_accuracy'],color='blue',label='val_accuracy')\n",
        "plt.legend()\n",
        "plt.show()"
      ],
      "metadata": {
        "id": "OJ4RLWCCRsFK",
        "outputId": "04f90017-e795-4181-f096-4307a00e9477",
        "colab": {
          "base_uri": "https://localhost:8080/",
          "height": 430
        }
      },
      "execution_count": 70,
      "outputs": [
        {
          "output_type": "display_data",
          "data": {
            "text/plain": [
              "<Figure size 640x480 with 1 Axes>"
            ],
            "image/png": "[encoded data removed]"
          },
          "metadata": {}
        }
      ]
    },
    {
      "cell_type": "code",
      "source": [],
      "metadata": {
        "id": "MdeYgsY3R3Cc"
      },
      "execution_count": null,
      "outputs": []
    }
  ]
}